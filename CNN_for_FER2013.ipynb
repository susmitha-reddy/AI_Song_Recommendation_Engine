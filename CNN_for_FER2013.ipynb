{
 "cells": [
  {
   "cell_type": "code",
   "execution_count": 1,
   "metadata": {
    "_cell_guid": "b1076dfc-b9ad-4769-8c92-a6c4dae69d19",
    "_uuid": "8f2839f25d086af736a60e9eeb907d3b93b6e0e5"
   },
   "outputs": [],
   "source": [
    "import numpy as np \n",
    "import os\n",
    "import matplotlib.pyplot as plt\n",
    "import seaborn as sns\n",
    "import tensorflow as tf\n",
    "import keras\n",
    "from keras.preprocessing import image\n",
    "from keras.models import Sequential\n",
    "from keras.layers import Conv2D, MaxPool2D, Flatten,Dense,Dropout,BatchNormalization\n",
    "from tensorflow.keras.preprocessing.image import ImageDataGenerator\n",
    "import cv2\n",
    "from keras import regularizers\n",
    "from tensorflow.keras.optimizers import Adam,Adamax\n",
    "from sklearn.metrics import confusion_matrix\n",
    "from sklearn.metrics import classification_report\n"
   ]
  },
  {
   "cell_type": "code",
   "execution_count": 2,
   "metadata": {},
   "outputs": [],
   "source": [
    "#path of the data for the model\n",
    "#train_dir = \"../input/ckplus/CK+48\" #passing the path with training images\n",
    "#test_dir = \"../input/ckplus/CK+48\"   #passing the path with testing images\n",
    "train_dir = \"../input/fer2013/train\" #passing the path with training images\n",
    "test_dir = \"../input/fer2013/test\"   #passing the path with testing imag"
   ]
  },
  {
   "cell_type": "code",
   "execution_count": 3,
   "metadata": {},
   "outputs": [],
   "source": [
    "#Data Augmentation and splitting the train and validation data\n",
    "train_datagen = ImageDataGenerator(width_shift_range = 0.1,\n",
    "                                         height_shift_range = 0.1,\n",
    "                                         horizontal_flip = True,\n",
    "                                         rescale = 1./255,\n",
    "                                         validation_split = 0.2\n",
    "                                        )\n",
    "validation_datagen = ImageDataGenerator(rescale = 1./255,\n",
    "                                         validation_split = 0.2\n",
    "                                       )\n"
   ]
  },
  {
   "cell_type": "code",
   "execution_count": 4,
   "metadata": {},
   "outputs": [
    {
     "name": "stdout",
     "output_type": "stream",
     "text": [
      "Found 22968 images belonging to 7 classes.\n",
      "Found 5741 images belonging to 7 classes.\n"
     ]
    }
   ],
   "source": [
    "#Loading the train and validation data for the model\n",
    "train_generator = train_datagen.flow_from_directory(directory = train_dir,\n",
    "                                                    target_size = (48,48),\n",
    "                                                    batch_size = 32,\n",
    "                                                    color_mode = \"grayscale\",\n",
    "                                                    class_mode = \"categorical\",\n",
    "                                                    subset = \"training\"\n",
    "                                                   )\n",
    "validation_generator = validation_datagen.flow_from_directory( directory = train_dir,\n",
    "                                                              target_size = (48,48),\n",
    "                                                              batch_size = 32,\n",
    "                                                              color_mode = \"grayscale\",\n",
    "                                                              class_mode = \"categorical\",\n",
    "                                                              subset = \"validation\"\n",
    "                                                             )"
   ]
  },
  {
   "cell_type": "code",
   "execution_count": 5,
   "metadata": {},
   "outputs": [
    {
     "name": "stdout",
     "output_type": "stream",
     "text": [
      "Model: \"sequential\"\n",
      "_________________________________________________________________\n",
      "Layer (type)                 Output Shape              Param #   \n",
      "=================================================================\n",
      "conv2d (Conv2D)              (None, 48, 48, 32)        320       \n",
      "_________________________________________________________________\n",
      "conv2d_1 (Conv2D)            (None, 48, 48, 64)        18496     \n",
      "_________________________________________________________________\n",
      "batch_normalization (BatchNo (None, 48, 48, 64)        256       \n",
      "_________________________________________________________________\n",
      "max_pooling2d (MaxPooling2D) (None, 24, 24, 64)        0         \n",
      "_________________________________________________________________\n",
      "dropout (Dropout)            (None, 24, 24, 64)        0         \n",
      "_________________________________________________________________\n",
      "conv2d_2 (Conv2D)            (None, 24, 24, 128)       204928    \n",
      "_________________________________________________________________\n",
      "batch_normalization_1 (Batch (None, 24, 24, 128)       512       \n",
      "_________________________________________________________________\n",
      "max_pooling2d_1 (MaxPooling2 (None, 12, 12, 128)       0         \n",
      "_________________________________________________________________\n",
      "dropout_1 (Dropout)          (None, 12, 12, 128)       0         \n",
      "_________________________________________________________________\n",
      "conv2d_3 (Conv2D)            (None, 12, 12, 512)       590336    \n",
      "_________________________________________________________________\n",
      "batch_normalization_2 (Batch (None, 12, 12, 512)       2048      \n",
      "_________________________________________________________________\n",
      "max_pooling2d_2 (MaxPooling2 (None, 6, 6, 512)         0         \n",
      "_________________________________________________________________\n",
      "dropout_2 (Dropout)          (None, 6, 6, 512)         0         \n",
      "_________________________________________________________________\n",
      "conv2d_4 (Conv2D)            (None, 6, 6, 512)         2359808   \n",
      "_________________________________________________________________\n",
      "batch_normalization_3 (Batch (None, 6, 6, 512)         2048      \n",
      "_________________________________________________________________\n",
      "max_pooling2d_3 (MaxPooling2 (None, 3, 3, 512)         0         \n",
      "_________________________________________________________________\n",
      "dropout_3 (Dropout)          (None, 3, 3, 512)         0         \n",
      "_________________________________________________________________\n",
      "flatten (Flatten)            (None, 4608)              0         \n",
      "_________________________________________________________________\n",
      "dense (Dense)                (None, 256)               1179904   \n",
      "_________________________________________________________________\n",
      "batch_normalization_4 (Batch (None, 256)               1024      \n",
      "_________________________________________________________________\n",
      "dropout_4 (Dropout)          (None, 256)               0         \n",
      "_________________________________________________________________\n",
      "dense_1 (Dense)              (None, 512)               131584    \n",
      "_________________________________________________________________\n",
      "batch_normalization_5 (Batch (None, 512)               2048      \n",
      "_________________________________________________________________\n",
      "dropout_5 (Dropout)          (None, 512)               0         \n",
      "_________________________________________________________________\n",
      "dense_2 (Dense)              (None, 7)                 3591      \n",
      "=================================================================\n",
      "Total params: 4,496,903\n",
      "Trainable params: 4,492,935\n",
      "Non-trainable params: 3,968\n",
      "_________________________________________________________________\n"
     ]
    }
   ],
   "source": [
    "#Defining the CNN Model\n",
    "model= tf.keras.models.Sequential()\n",
    "model.add(Conv2D(32, kernel_size=(3, 3), padding='same', activation='relu', input_shape=(48, 48,1)))\n",
    "model.add(Conv2D(64,(3,3), padding='same', activation='relu' ))\n",
    "model.add(BatchNormalization())\n",
    "model.add(MaxPool2D(pool_size=(2, 2)))\n",
    "model.add(Dropout(0.25))\n",
    "\n",
    "model.add(Conv2D(128,(5,5), padding='same', activation='relu'))\n",
    "model.add(BatchNormalization())\n",
    "model.add(MaxPool2D(pool_size=(2, 2)))\n",
    "model.add(Dropout(0.25))\n",
    "    \n",
    "model.add(Conv2D(512,(3,3), padding='same', activation='relu', kernel_regularizer=regularizers.l2(0.01)))\n",
    "model.add(BatchNormalization())\n",
    "model.add(MaxPool2D(pool_size=(2, 2)))\n",
    "model.add(Dropout(0.25))\n",
    "\n",
    "model.add(Conv2D(512,(3,3), padding='same', activation='relu', kernel_regularizer=regularizers.l2(0.01)))\n",
    "model.add(BatchNormalization())\n",
    "model.add(MaxPool2D(pool_size=(2, 2)))\n",
    "model.add(Dropout(0.25))\n",
    "\n",
    "model.add(Flatten()) \n",
    "model.add(Dense(256,activation = 'relu'))\n",
    "model.add(BatchNormalization())\n",
    "model.add(Dropout(0.25))\n",
    "    \n",
    "model.add(Dense(512,activation = 'relu'))\n",
    "model.add(BatchNormalization())\n",
    "model.add(Dropout(0.25))\n",
    "\n",
    "model.add(Dense(7, activation='softmax'))\n",
    "\n",
    "model.compile(\n",
    "    optimizer = Adam(lr=0.0001), \n",
    "    loss='categorical_crossentropy', \n",
    "    metrics=['accuracy']\n",
    "  )\n",
    "\n",
    "model.summary()\n"
   ]
  },
  {
   "cell_type": "code",
   "execution_count": 6,
   "metadata": {},
   "outputs": [
    {
     "name": "stdout",
     "output_type": "stream",
     "text": [
      "Epoch 1/100\n",
      "718/718 [==============================] - 179s 241ms/step - loss: 9.4140 - accuracy: 0.1829 - val_loss: 8.1532 - val_accuracy: 0.2620\n",
      "Epoch 2/100\n",
      "718/718 [==============================] - 72s 101ms/step - loss: 7.9414 - accuracy: 0.2293 - val_loss: 6.6620 - val_accuracy: 0.2937\n",
      "Epoch 3/100\n",
      "718/718 [==============================] - 72s 100ms/step - loss: 6.4779 - accuracy: 0.2572 - val_loss: 5.2272 - val_accuracy: 0.3257\n",
      "Epoch 4/100\n",
      "718/718 [==============================] - 72s 100ms/step - loss: 5.1377 - accuracy: 0.2851 - val_loss: 4.3793 - val_accuracy: 0.3013\n",
      "Epoch 5/100\n",
      "718/718 [==============================] - 72s 100ms/step - loss: 4.0853 - accuracy: 0.3290 - val_loss: 3.3794 - val_accuracy: 0.3898\n",
      "Epoch 6/100\n",
      "718/718 [==============================] - 72s 100ms/step - loss: 3.3170 - accuracy: 0.3644 - val_loss: 2.7630 - val_accuracy: 0.4255\n",
      "Epoch 7/100\n",
      "718/718 [==============================] - 73s 101ms/step - loss: 2.7601 - accuracy: 0.3997 - val_loss: 2.3350 - val_accuracy: 0.4804\n",
      "Epoch 8/100\n",
      "718/718 [==============================] - 75s 104ms/step - loss: 2.3962 - accuracy: 0.4374 - val_loss: 2.1421 - val_accuracy: 0.4835\n",
      "Epoch 9/100\n",
      "718/718 [==============================] - 72s 100ms/step - loss: 2.1739 - accuracy: 0.4666 - val_loss: 1.9236 - val_accuracy: 0.5158\n",
      "Epoch 10/100\n",
      "718/718 [==============================] - 72s 100ms/step - loss: 1.9848 - accuracy: 0.4844 - val_loss: 1.7692 - val_accuracy: 0.5403\n",
      "Epoch 11/100\n",
      "718/718 [==============================] - 72s 100ms/step - loss: 1.8630 - accuracy: 0.5029 - val_loss: 2.0151 - val_accuracy: 0.4252\n",
      "Epoch 12/100\n",
      "718/718 [==============================] - 72s 100ms/step - loss: 1.7922 - accuracy: 0.5180 - val_loss: 1.6843 - val_accuracy: 0.5391\n",
      "Epoch 13/100\n",
      "718/718 [==============================] - 72s 100ms/step - loss: 1.7196 - accuracy: 0.5306 - val_loss: 1.7467 - val_accuracy: 0.5205\n",
      "Epoch 14/100\n",
      "718/718 [==============================] - 72s 100ms/step - loss: 1.6713 - accuracy: 0.5393 - val_loss: 1.5618 - val_accuracy: 0.5757\n",
      "Epoch 15/100\n",
      "718/718 [==============================] - 72s 100ms/step - loss: 1.6323 - accuracy: 0.5514 - val_loss: 1.5574 - val_accuracy: 0.5745\n",
      "Epoch 16/100\n",
      "718/718 [==============================] - 72s 100ms/step - loss: 1.5864 - accuracy: 0.5660 - val_loss: 1.5246 - val_accuracy: 0.5877\n",
      "Epoch 17/100\n",
      "718/718 [==============================] - 72s 100ms/step - loss: 1.5777 - accuracy: 0.5667 - val_loss: 1.6863 - val_accuracy: 0.5497\n",
      "Epoch 18/100\n",
      "718/718 [==============================] - 72s 100ms/step - loss: 1.5757 - accuracy: 0.5732 - val_loss: 1.5164 - val_accuracy: 0.5877\n",
      "Epoch 19/100\n",
      "718/718 [==============================] - 72s 100ms/step - loss: 1.5447 - accuracy: 0.5767 - val_loss: 1.5731 - val_accuracy: 0.5685\n",
      "Epoch 20/100\n",
      "718/718 [==============================] - 72s 100ms/step - loss: 1.5312 - accuracy: 0.5855 - val_loss: 1.4821 - val_accuracy: 0.6029\n",
      "Epoch 21/100\n",
      "718/718 [==============================] - 72s 100ms/step - loss: 1.5159 - accuracy: 0.5863 - val_loss: 1.4781 - val_accuracy: 0.6058\n",
      "Epoch 22/100\n",
      "718/718 [==============================] - 72s 101ms/step - loss: 1.4937 - accuracy: 0.6016 - val_loss: 1.4887 - val_accuracy: 0.5985\n",
      "Epoch 23/100\n",
      "718/718 [==============================] - 72s 100ms/step - loss: 1.4928 - accuracy: 0.5920 - val_loss: 1.4533 - val_accuracy: 0.6124\n",
      "Epoch 24/100\n",
      "718/718 [==============================] - 73s 101ms/step - loss: 1.4809 - accuracy: 0.5975 - val_loss: 1.4740 - val_accuracy: 0.6020\n",
      "Epoch 25/100\n",
      "718/718 [==============================] - 72s 100ms/step - loss: 1.4645 - accuracy: 0.6010 - val_loss: 1.4331 - val_accuracy: 0.6189\n",
      "Epoch 26/100\n",
      "718/718 [==============================] - 72s 100ms/step - loss: 1.4496 - accuracy: 0.6071 - val_loss: 1.4438 - val_accuracy: 0.6192\n",
      "Epoch 27/100\n",
      "718/718 [==============================] - 73s 101ms/step - loss: 1.4600 - accuracy: 0.6038 - val_loss: 1.4417 - val_accuracy: 0.6123\n",
      "Epoch 28/100\n",
      "718/718 [==============================] - 72s 100ms/step - loss: 1.4387 - accuracy: 0.6124 - val_loss: 1.4270 - val_accuracy: 0.6187\n",
      "Epoch 29/100\n",
      "718/718 [==============================] - 72s 101ms/step - loss: 1.4307 - accuracy: 0.6194 - val_loss: 1.4401 - val_accuracy: 0.6224\n",
      "Epoch 30/100\n",
      "718/718 [==============================] - 72s 100ms/step - loss: 1.4383 - accuracy: 0.6196 - val_loss: 1.4244 - val_accuracy: 0.6243\n",
      "Epoch 31/100\n",
      "718/718 [==============================] - 72s 100ms/step - loss: 1.4195 - accuracy: 0.6263 - val_loss: 1.4710 - val_accuracy: 0.6110\n",
      "Epoch 32/100\n",
      "718/718 [==============================] - 72s 100ms/step - loss: 1.4222 - accuracy: 0.6267 - val_loss: 1.4475 - val_accuracy: 0.6170\n",
      "Epoch 33/100\n",
      "718/718 [==============================] - 72s 100ms/step - loss: 1.4233 - accuracy: 0.6237 - val_loss: 1.4047 - val_accuracy: 0.6346\n",
      "Epoch 34/100\n",
      "718/718 [==============================] - 75s 104ms/step - loss: 1.4120 - accuracy: 0.6253 - val_loss: 1.4659 - val_accuracy: 0.6112\n",
      "Epoch 35/100\n",
      "718/718 [==============================] - 72s 100ms/step - loss: 1.4215 - accuracy: 0.6301 - val_loss: 1.4274 - val_accuracy: 0.6281\n",
      "Epoch 36/100\n",
      "718/718 [==============================] - 73s 101ms/step - loss: 1.4144 - accuracy: 0.6327 - val_loss: 1.4155 - val_accuracy: 0.6264\n",
      "Epoch 37/100\n",
      "718/718 [==============================] - 72s 100ms/step - loss: 1.3821 - accuracy: 0.6416 - val_loss: 1.4205 - val_accuracy: 0.6260\n",
      "Epoch 38/100\n",
      "718/718 [==============================] - 72s 100ms/step - loss: 1.4039 - accuracy: 0.6349 - val_loss: 1.4693 - val_accuracy: 0.6187\n",
      "Epoch 39/100\n",
      "718/718 [==============================] - 72s 100ms/step - loss: 1.4150 - accuracy: 0.6372 - val_loss: 1.4317 - val_accuracy: 0.6293\n",
      "Epoch 40/100\n",
      "718/718 [==============================] - 72s 100ms/step - loss: 1.4069 - accuracy: 0.6343 - val_loss: 1.4325 - val_accuracy: 0.6285\n",
      "Epoch 41/100\n",
      "718/718 [==============================] - 72s 100ms/step - loss: 1.4022 - accuracy: 0.6385 - val_loss: 1.4459 - val_accuracy: 0.6262\n",
      "Epoch 42/100\n",
      "718/718 [==============================] - 72s 100ms/step - loss: 1.4066 - accuracy: 0.6360 - val_loss: 1.5026 - val_accuracy: 0.6063\n",
      "Epoch 43/100\n",
      "718/718 [==============================] - 75s 105ms/step - loss: 1.4005 - accuracy: 0.6393 - val_loss: 1.4628 - val_accuracy: 0.6138\n",
      "Epoch 44/100\n",
      "718/718 [==============================] - 78s 108ms/step - loss: 1.3920 - accuracy: 0.6429 - val_loss: 1.4344 - val_accuracy: 0.6356\n",
      "Epoch 45/100\n",
      "718/718 [==============================] - 72s 100ms/step - loss: 1.4059 - accuracy: 0.6438 - val_loss: 1.4277 - val_accuracy: 0.6333\n",
      "Epoch 46/100\n",
      "718/718 [==============================] - 72s 100ms/step - loss: 1.3891 - accuracy: 0.6467 - val_loss: 1.4205 - val_accuracy: 0.6403\n",
      "Epoch 47/100\n",
      "718/718 [==============================] - 72s 100ms/step - loss: 1.3765 - accuracy: 0.6537 - val_loss: 1.4406 - val_accuracy: 0.6290\n",
      "Epoch 48/100\n",
      "718/718 [==============================] - 72s 100ms/step - loss: 1.3844 - accuracy: 0.6486 - val_loss: 1.4515 - val_accuracy: 0.6272\n",
      "Epoch 49/100\n",
      "718/718 [==============================] - 72s 100ms/step - loss: 1.3819 - accuracy: 0.6519 - val_loss: 1.4052 - val_accuracy: 0.6356\n",
      "Epoch 50/100\n",
      "718/718 [==============================] - 72s 100ms/step - loss: 1.3692 - accuracy: 0.6555 - val_loss: 1.4205 - val_accuracy: 0.6419\n",
      "Epoch 51/100\n",
      "718/718 [==============================] - 72s 100ms/step - loss: 1.3740 - accuracy: 0.6524 - val_loss: 1.4349 - val_accuracy: 0.6311\n",
      "Epoch 52/100\n",
      "718/718 [==============================] - 72s 100ms/step - loss: 1.3565 - accuracy: 0.6614 - val_loss: 1.3985 - val_accuracy: 0.6476\n",
      "Epoch 53/100\n",
      "718/718 [==============================] - 72s 100ms/step - loss: 1.3542 - accuracy: 0.6584 - val_loss: 1.4097 - val_accuracy: 0.6441\n",
      "Epoch 54/100\n",
      "718/718 [==============================] - 72s 100ms/step - loss: 1.3589 - accuracy: 0.6614 - val_loss: 1.4545 - val_accuracy: 0.6163\n",
      "Epoch 55/100\n",
      "718/718 [==============================] - 72s 100ms/step - loss: 1.3702 - accuracy: 0.6546 - val_loss: 1.4338 - val_accuracy: 0.6363\n",
      "Epoch 56/100\n",
      "718/718 [==============================] - 72s 100ms/step - loss: 1.3722 - accuracy: 0.6546 - val_loss: 1.4392 - val_accuracy: 0.6353\n",
      "Epoch 57/100\n",
      "718/718 [==============================] - 72s 100ms/step - loss: 1.3719 - accuracy: 0.6639 - val_loss: 1.4209 - val_accuracy: 0.6360\n",
      "Epoch 58/100\n",
      "718/718 [==============================] - 72s 100ms/step - loss: 1.3641 - accuracy: 0.6599 - val_loss: 1.4381 - val_accuracy: 0.6414\n",
      "Epoch 59/100\n",
      "718/718 [==============================] - 72s 100ms/step - loss: 1.3604 - accuracy: 0.6663 - val_loss: 1.4381 - val_accuracy: 0.6387\n",
      "Epoch 60/100\n",
      "718/718 [==============================] - 72s 100ms/step - loss: 1.3694 - accuracy: 0.6626 - val_loss: 1.4588 - val_accuracy: 0.6264\n",
      "Epoch 61/100\n",
      "718/718 [==============================] - 72s 100ms/step - loss: 1.3750 - accuracy: 0.6594 - val_loss: 1.4380 - val_accuracy: 0.6408\n",
      "Epoch 62/100\n",
      "718/718 [==============================] - 72s 100ms/step - loss: 1.3707 - accuracy: 0.6615 - val_loss: 1.4401 - val_accuracy: 0.6363\n",
      "Epoch 63/100\n",
      "718/718 [==============================] - 73s 101ms/step - loss: 1.3499 - accuracy: 0.6672 - val_loss: 1.4523 - val_accuracy: 0.6377\n",
      "Epoch 64/100\n",
      "718/718 [==============================] - 73s 102ms/step - loss: 1.3498 - accuracy: 0.6644 - val_loss: 1.4160 - val_accuracy: 0.6380\n",
      "Epoch 65/100\n",
      "718/718 [==============================] - 72s 100ms/step - loss: 1.3521 - accuracy: 0.6602 - val_loss: 1.4127 - val_accuracy: 0.6415\n",
      "Epoch 66/100\n",
      "718/718 [==============================] - 72s 101ms/step - loss: 1.3372 - accuracy: 0.6710 - val_loss: 1.4030 - val_accuracy: 0.6466\n",
      "Epoch 67/100\n",
      "718/718 [==============================] - 72s 100ms/step - loss: 1.3308 - accuracy: 0.6718 - val_loss: 1.4207 - val_accuracy: 0.6415\n",
      "Epoch 68/100\n",
      "718/718 [==============================] - 72s 100ms/step - loss: 1.3330 - accuracy: 0.6741 - val_loss: 1.4086 - val_accuracy: 0.6492\n",
      "Epoch 69/100\n",
      "718/718 [==============================] - 72s 100ms/step - loss: 1.3449 - accuracy: 0.6692 - val_loss: 1.4222 - val_accuracy: 0.6426\n",
      "Epoch 70/100\n",
      "718/718 [==============================] - 72s 101ms/step - loss: 1.3382 - accuracy: 0.6709 - val_loss: 1.4490 - val_accuracy: 0.6394\n",
      "Epoch 71/100\n",
      "718/718 [==============================] - 72s 100ms/step - loss: 1.3448 - accuracy: 0.6671 - val_loss: 1.4058 - val_accuracy: 0.6447\n",
      "Epoch 72/100\n",
      "718/718 [==============================] - 72s 100ms/step - loss: 1.3281 - accuracy: 0.6688 - val_loss: 1.4261 - val_accuracy: 0.6433\n",
      "Epoch 73/100\n",
      "718/718 [==============================] - 72s 100ms/step - loss: 1.3473 - accuracy: 0.6670 - val_loss: 1.4152 - val_accuracy: 0.6504\n",
      "Epoch 74/100\n",
      "718/718 [==============================] - 73s 102ms/step - loss: 1.3312 - accuracy: 0.6724 - val_loss: 1.4333 - val_accuracy: 0.6401\n",
      "Epoch 75/100\n",
      "718/718 [==============================] - 72s 100ms/step - loss: 1.3262 - accuracy: 0.6736 - val_loss: 1.4136 - val_accuracy: 0.6464\n",
      "Epoch 76/100\n",
      "718/718 [==============================] - 72s 100ms/step - loss: 1.3248 - accuracy: 0.6753 - val_loss: 1.4763 - val_accuracy: 0.6241\n",
      "Epoch 77/100\n",
      "718/718 [==============================] - 72s 100ms/step - loss: 1.3185 - accuracy: 0.6760 - val_loss: 1.4350 - val_accuracy: 0.6391\n",
      "Epoch 78/100\n",
      "718/718 [==============================] - 72s 100ms/step - loss: 1.3284 - accuracy: 0.6689 - val_loss: 1.4414 - val_accuracy: 0.6347\n",
      "Epoch 79/100\n",
      "718/718 [==============================] - 72s 100ms/step - loss: 1.3161 - accuracy: 0.6744 - val_loss: 1.4330 - val_accuracy: 0.6398\n",
      "Epoch 80/100\n",
      "718/718 [==============================] - 72s 100ms/step - loss: 1.3286 - accuracy: 0.6768 - val_loss: 1.4290 - val_accuracy: 0.6410\n",
      "Epoch 81/100\n",
      "718/718 [==============================] - 72s 100ms/step - loss: 1.3200 - accuracy: 0.6752 - val_loss: 1.4356 - val_accuracy: 0.6466\n",
      "Epoch 82/100\n",
      "718/718 [==============================] - 72s 100ms/step - loss: 1.3211 - accuracy: 0.6760 - val_loss: 1.4357 - val_accuracy: 0.6441\n",
      "Epoch 83/100\n",
      "718/718 [==============================] - 72s 101ms/step - loss: 1.3164 - accuracy: 0.6777 - val_loss: 1.4115 - val_accuracy: 0.6474\n",
      "Epoch 84/100\n",
      "718/718 [==============================] - 72s 100ms/step - loss: 1.3103 - accuracy: 0.6767 - val_loss: 1.4066 - val_accuracy: 0.6502\n",
      "Epoch 85/100\n",
      "718/718 [==============================] - 75s 104ms/step - loss: 1.3188 - accuracy: 0.6796 - val_loss: 1.4260 - val_accuracy: 0.6393\n",
      "Epoch 86/100\n",
      "718/718 [==============================] - 72s 100ms/step - loss: 1.3071 - accuracy: 0.6782 - val_loss: 1.4188 - val_accuracy: 0.6434\n",
      "Epoch 87/100\n",
      "718/718 [==============================] - 72s 100ms/step - loss: 1.3090 - accuracy: 0.6823 - val_loss: 1.4157 - val_accuracy: 0.6525\n",
      "Epoch 88/100\n",
      "718/718 [==============================] - 72s 100ms/step - loss: 1.3051 - accuracy: 0.6872 - val_loss: 1.4059 - val_accuracy: 0.6461\n",
      "Epoch 89/100\n",
      "718/718 [==============================] - 72s 100ms/step - loss: 1.3034 - accuracy: 0.6816 - val_loss: 1.4153 - val_accuracy: 0.6450\n",
      "Epoch 90/100\n",
      "718/718 [==============================] - 72s 100ms/step - loss: 1.3082 - accuracy: 0.6832 - val_loss: 1.4266 - val_accuracy: 0.6515\n",
      "Epoch 91/100\n",
      "718/718 [==============================] - 72s 100ms/step - loss: 1.2947 - accuracy: 0.6842 - val_loss: 1.4059 - val_accuracy: 0.6508\n",
      "Epoch 92/100\n",
      "718/718 [==============================] - 72s 100ms/step - loss: 1.3072 - accuracy: 0.6822 - val_loss: 1.3920 - val_accuracy: 0.6605\n",
      "Epoch 93/100\n",
      "718/718 [==============================] - 72s 100ms/step - loss: 1.2882 - accuracy: 0.6915 - val_loss: 1.4196 - val_accuracy: 0.6447\n",
      "Epoch 94/100\n",
      "718/718 [==============================] - 72s 100ms/step - loss: 1.2879 - accuracy: 0.6892 - val_loss: 1.4114 - val_accuracy: 0.6490\n",
      "Epoch 95/100\n",
      "718/718 [==============================] - 72s 100ms/step - loss: 1.2906 - accuracy: 0.6817 - val_loss: 1.3852 - val_accuracy: 0.6485\n",
      "Epoch 96/100\n",
      "718/718 [==============================] - 72s 100ms/step - loss: 1.3015 - accuracy: 0.6853 - val_loss: 1.3987 - val_accuracy: 0.6499\n",
      "Epoch 97/100\n",
      "718/718 [==============================] - 72s 100ms/step - loss: 1.2862 - accuracy: 0.6850 - val_loss: 1.4211 - val_accuracy: 0.6433\n",
      "Epoch 98/100\n",
      "718/718 [==============================] - 72s 100ms/step - loss: 1.2905 - accuracy: 0.6863 - val_loss: 1.4244 - val_accuracy: 0.6417\n",
      "Epoch 99/100\n",
      "718/718 [==============================] - 75s 105ms/step - loss: 1.2967 - accuracy: 0.6859 - val_loss: 1.4126 - val_accuracy: 0.6412\n",
      "Epoch 100/100\n",
      "718/718 [==============================] - 72s 100ms/step - loss: 1.2755 - accuracy: 0.6885 - val_loss: 1.3897 - val_accuracy: 0.6582\n"
     ]
    }
   ],
   "source": [
    "#Training the model\n",
    "cnn_model = model.fit(x = train_generator,epochs = 100,batch_size = 32,validation_data = validation_generator)"
   ]
  },
  {
   "cell_type": "code",
   "execution_count": 7,
   "metadata": {},
   "outputs": [
    {
     "data": {
      "image/png": "[encoded data removed]",
      "text/plain": [
       "<Figure size 864x288 with 2 Axes>"
      ]
     },
     "metadata": {
      "needs_background": "light"
     },
     "output_type": "display_data"
    }
   ],
   "source": [
    "#Displaying the Accuracy and Loss Graphs\n",
    "fig , ax = plt.subplots(1,2)\n",
    "train_acc = cnn_model.history['accuracy']\n",
    "train_loss = cnn_model.history['loss']\n",
    "fig.set_size_inches(12,4)\n",
    "\n",
    "ax[0].plot(cnn_model.history['accuracy'])\n",
    "ax[0].plot(cnn_model.history['val_accuracy'])\n",
    "ax[0].set_title('Training Accuracy vs Validation Accuracy')\n",
    "ax[0].set_ylabel('Accuracy')\n",
    "ax[0].set_xlabel('Epoch')\n",
    "ax[0].legend(['Train', 'Validation'], loc='upper left')\n",
    "\n",
    "ax[1].plot(cnn_model.history['loss'])\n",
    "ax[1].plot(cnn_model.history['val_loss'])\n",
    "ax[1].set_title('Training Loss vs Validation Loss')\n",
    "ax[1].set_ylabel('Loss')\n",
    "ax[1].set_xlabel('Epoch')\n",
    "ax[1].legend(['Train', 'Validation'], loc='upper left')\n",
    "\n",
    "plt.show()"
   ]
  },
  {
   "cell_type": "code",
   "execution_count": 8,
   "metadata": {},
   "outputs": [
    {
     "name": "stdout",
     "output_type": "stream",
     "text": [
      "Found 7178 images belonging to 7 classes.\n"
     ]
    }
   ],
   "source": [
    "#Data Augmentation of Test data and loading the test data\n",
    "test_datagen = ImageDataGenerator(rescale = 1./255)\n",
    "test_generator = test_datagen.flow_from_directory( directory = test_dir,\n",
    "                                                              target_size = (48,48),\n",
    "                                                              batch_size = 64,\n",
    "                                                              color_mode = \"grayscale\",\n",
    "                                                              class_mode = \"categorical\"\n",
    "                                                             )\n",
    "\n"
   ]
  },
  {
   "cell_type": "code",
   "execution_count": 10,
   "metadata": {},
   "outputs": [
    {
     "name": "stdout",
     "output_type": "stream",
     "text": [
      "113/113 [==============================] - 33s 285ms/step - loss: 1.8034 - accuracy: 0.6573\n"
     ]
    },
    {
     "data": {
      "text/plain": [
       "[1.8034496307373047, 0.6572861671447754]"
      ]
     },
     "execution_count": 10,
     "metadata": {},
     "output_type": "execute_result"
    }
   ],
   "source": [
    "#Evaluating the model based on Test data\n",
    "model.evaluate(test_generator)"
   ]
  },
  {
   "cell_type": "code",
   "execution_count": 11,
   "metadata": {},
   "outputs": [],
   "source": [
    "model.save(\"CNN_face_classifier.h5\") #Saving the model"
   ]
  },
  {
   "cell_type": "code",
   "execution_count": 13,
   "metadata": {},
   "outputs": [
    {
     "name": "stderr",
     "output_type": "stream",
     "text": [
      "/opt/conda/lib/python3.7/site-packages/tensorflow/python/keras/engine/training.py:1905: UserWarning: `Model.predict_generator` is deprecated and will be removed in a future version. Please use `Model.predict`, which supports generators.\n",
      "  warnings.warn('`Model.predict_generator` is deprecated and '\n"
     ]
    },
    {
     "data": {
      "text/plain": [
       "Text(0.5, 1.0, 'Confusion Matrix')"
      ]
     },
     "execution_count": 13,
     "metadata": {},
     "output_type": "execute_result"
    },
    {
     "data": {
      "image/png": "[encoded data removed]",
      "text/plain": [
       "<Figure size 432x288 with 2 Axes>"
      ]
     },
     "metadata": {
      "needs_background": "light"
     },
     "output_type": "display_data"
    }
   ],
   "source": [
    "#Confusion matrix for the model\n",
    "Y_pred = model.predict_generator(test_generator)\n",
    "y_pred = np.argmax(Y_pred, axis=1)\n",
    "conf = confusion_matrix(test_generator.classes, y_pred)\n",
    "\n",
    "x_axis_labels = ['angry', 'disgust', 'fear', 'happy', 'neutral', 'sad', 'surprise'] # labels for x-axis\n",
    "y_axis_labels = ['angry', 'disgust', 'fear', 'happy', 'neutral', 'sad', 'surprise'] # labels for y-axis\n",
    "ax = plt.axes()\n",
    "sns.heatmap(conf, annot=True, fmt =\"d\", xticklabels=x_axis_labels, yticklabels=y_axis_labels)\n",
    "ax.set_title('Confusion Matrix')\n",
    "\n"
   ]
  }
 ],
 "metadata": {
  "kernelspec": {
   "display_name": "Python 3",
   "language": "python",
   "name": "python3"
  },
  "language_info": {
   "codemirror_mode": {
    "name": "ipython",
    "version": 3
   },
   "file_extension": ".py",
   "mimetype": "text/x-python",
   "name": "python",
   "nbconvert_exporter": "python",
   "pygments_lexer": "ipython3",
   "version": "3.8.5"
  }
 },
 "nbformat": 4,
 "nbformat_minor": 4
}
